{
 "cells": [
  {
   "cell_type": "code",
   "execution_count": 48,
   "metadata": {},
   "outputs": [],
   "source": [
    "from langchain.chat_models import ChatOpenAI\n",
    "from langchain.prompts import ChatPromptTemplate\n",
    "\n",
    "chat = ChatOpenAI(temperature=0.1)"
   ]
  },
  {
   "cell_type": "code",
   "execution_count": 49,
   "metadata": {},
   "outputs": [],
   "source": [
    "from langchain.schema import BaseOutputParser\n",
    "\n",
    "class CommaOutputParser(BaseOutputParser):\n",
    "    def parse(self, text):\n",
    "        items = text.strip().split(\",\")\n",
    "        return list(map(str.strip, items))"
   ]
  },
  {
   "cell_type": "code",
   "execution_count": 50,
   "metadata": {},
   "outputs": [],
   "source": [
    "template = ChatPromptTemplate.from_messages([\n",
    "    (\"system\", \"You are meant to write Haikus about programming languages. Everything you are asked will be answered with text-based Haiku about entered programming language. Do NOT reply with anything else other than writing Haikus on programming language.\"),\n",
    "    (\"human\", \"{language}\")\n",
    "])\n",
    "\n",
    "template_2 = ChatPromptTemplate.from_messages([\n",
    "    (\"system\", \"You are a machine that prints the originally provided Haiku as a whole text, and provides explanation on programming language related Haikus. Please provide the original Haiku first, and then provide explanation and possible interpretation of Haiku in one paragraph.\"),\n",
    "    (\"human\", \"{language}\")\n",
    "])"
   ]
  },
  {
   "cell_type": "code",
   "execution_count": 51,
   "metadata": {},
   "outputs": [
    {
     "data": {
      "text/plain": [
       "\"Indentation key,\\nPythonic beauty shines,\\nGuido's legacy.\\n\\nThis Haiku is a tribute to the programming language Python and its creator Guido van Rossum. In Python, indentation is not just for readability but also for defining the structure of the code. This unique feature sets Python apart from many other programming languages and is often seen as a defining characteristic of its beauty and simplicity. The mention of Guido's legacy in the Haiku acknowledges his contribution to the development of Python and how his vision has shaped the language into what it is today.\""
      ]
     },
     "execution_count": 51,
     "metadata": {},
     "output_type": "execute_result"
    }
   ],
   "source": [
    "haiku_write_chain = template | chat\n",
    "haiku_explain_chain = template_2 | chat\n",
    "final_chain = {\"language\": haiku_write_chain} | haiku_explain_chain\n",
    "\n",
    "result = final_chain.invoke({\n",
    "    \"language\": \"python\"\n",
    "})\n",
    "\n",
    "result.content"
   ]
  },
  {
   "cell_type": "markdown",
   "metadata": {},
   "source": []
  }
 ],
 "metadata": {
  "kernelspec": {
   "display_name": "env",
   "language": "python",
   "name": "python3"
  },
  "language_info": {
   "codemirror_mode": {
    "name": "ipython",
    "version": 3
   },
   "file_extension": ".py",
   "mimetype": "text/x-python",
   "name": "python",
   "nbconvert_exporter": "python",
   "pygments_lexer": "ipython3",
   "version": "3.11.4"
  }
 },
 "nbformat": 4,
 "nbformat_minor": 2
}
